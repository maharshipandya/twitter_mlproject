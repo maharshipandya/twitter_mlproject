{
 "cells": [
  {
   "cell_type": "code",
   "execution_count": 1,
   "metadata": {},
   "outputs": [
    {
     "name": "stdout",
     "output_type": "stream",
     "text": [
      "Collecting twitterscraper\n",
      "  Downloading https://files.pythonhosted.org/packages/f1/96/dccd1d5183868df56b72c699c5e1b9387d1354bc68c6631b5d32606510ef/twitterscraper-1.3.1.tar.gz\n",
      "Collecting coala-utils~=0.5.0 (from twitterscraper)\n",
      "  Downloading https://files.pythonhosted.org/packages/54/00/74ec750cfc4e830f9d1cfdd4d559f3d2d4ba1b834b78d5266446db3fd1d6/coala_utils-0.5.1-py3-none-any.whl\n",
      "Collecting bs4 (from twitterscraper)\n",
      "  Downloading https://files.pythonhosted.org/packages/10/ed/7e8b97591f6f456174139ec089c769f89a94a1a4025fe967691de971f314/bs4-0.0.1.tar.gz\n",
      "Requirement already satisfied: lxml in /Users/maharshi/anaconda3/lib/python3.6/site-packages (from twitterscraper) (4.3.0)\n",
      "Requirement already satisfied: requests in /Users/maharshi/anaconda3/lib/python3.6/site-packages (from twitterscraper) (2.21.0)\n",
      "Collecting billiard (from twitterscraper)\n",
      "\u001b[?25l  Downloading https://files.pythonhosted.org/packages/9a/bb/2a016ac912fca48e06ff5a662407f3d1681aa47df97fb19feba7cc931ee1/billiard-3.6.1.0-py3-none-any.whl (89kB)\n",
      "\u001b[K     |████████████████████████████████| 92kB 5.5MB/s eta 0:00:011\n",
      "\u001b[?25hRequirement already satisfied: beautifulsoup4 in /Users/maharshi/anaconda3/lib/python3.6/site-packages (from bs4->twitterscraper) (4.7.1)\n",
      "Requirement already satisfied: certifi>=2017.4.17 in /Users/maharshi/anaconda3/lib/python3.6/site-packages (from requests->twitterscraper) (2018.11.29)\n",
      "Requirement already satisfied: chardet<3.1.0,>=3.0.2 in /Users/maharshi/anaconda3/lib/python3.6/site-packages (from requests->twitterscraper) (3.0.4)\n",
      "Requirement already satisfied: idna<2.9,>=2.5 in /Users/maharshi/anaconda3/lib/python3.6/site-packages (from requests->twitterscraper) (2.8)\n",
      "Requirement already satisfied: urllib3<1.25,>=1.21.1 in /Users/maharshi/anaconda3/lib/python3.6/site-packages (from requests->twitterscraper) (1.24.1)\n",
      "Requirement already satisfied: soupsieve>=1.2 in /Users/maharshi/anaconda3/lib/python3.6/site-packages (from beautifulsoup4->bs4->twitterscraper) (1.7.1)\n",
      "Building wheels for collected packages: twitterscraper, bs4\n",
      "  Building wheel for twitterscraper (setup.py) ... \u001b[?25ldone\n",
      "\u001b[?25h  Stored in directory: /Users/maharshi/Library/Caches/pip/wheels/1b/38/dc/ca97310643483cd772d3dee2b18ce210fbca0b8e6ca01595a5\n",
      "  Building wheel for bs4 (setup.py) ... \u001b[?25ldone\n",
      "\u001b[?25h  Stored in directory: /Users/maharshi/Library/Caches/pip/wheels/a0/b0/b2/4f80b9456b87abedbc0bf2d52235414c3467d8889be38dd472\n",
      "Successfully built twitterscraper bs4\n",
      "Installing collected packages: coala-utils, bs4, billiard, twitterscraper\n",
      "Successfully installed billiard-3.6.1.0 bs4-0.0.1 coala-utils-0.5.1 twitterscraper-1.3.1\n",
      "\u001b[33mWARNING: You are using pip version 19.1.1, however version 19.3.1 is available.\n",
      "You should consider upgrading via the 'pip install --upgrade pip' command.\u001b[0m\n"
     ]
    }
   ],
   "source": [
    "!pip install twitterscraper"
   ]
  },
  {
   "cell_type": "code",
   "execution_count": 3,
   "metadata": {},
   "outputs": [
    {
     "name": "stderr",
     "output_type": "stream",
     "text": [
      "INFO: {'User-Agent': 'Mozilla/5.0 (Windows; U; Windows NT 6.1; rv:2.2) Gecko/20110201'}\n"
     ]
    }
   ],
   "source": [
    "from twitterscraper import query_tweets"
   ]
  },
  {
   "cell_type": "code",
   "execution_count": 10,
   "metadata": {},
   "outputs": [
    {
     "ename": "SyntaxError",
     "evalue": "invalid syntax (<ipython-input-10-294aed2b0ade>, line 1)",
     "output_type": "error",
     "traceback": [
      "\u001b[0;36m  File \u001b[0;32m\"<ipython-input-10-294aed2b0ade>\"\u001b[0;36m, line \u001b[0;32m1\u001b[0m\n\u001b[0;31m    twitterscraper realDonaldTrump --user -o tweets_username.json\u001b[0m\n\u001b[0m                                 ^\u001b[0m\n\u001b[0;31mSyntaxError\u001b[0m\u001b[0;31m:\u001b[0m invalid syntax\n"
     ]
    }
   ],
   "source": [
    "twitterscraper realDonaldTrump --user -o tweets_username.json"
   ]
  },
  {
   "cell_type": "code",
   "execution_count": 16,
   "metadata": {},
   "outputs": [
    {
     "name": "stderr",
     "output_type": "stream",
     "text": [
      "INFO: queries: ['Trump OR Clinton since:2006-03-21 until:2006-11-24', 'Trump OR Clinton since:2006-11-24 until:2007-07-31', 'Trump OR Clinton since:2007-07-31 until:2008-04-04', 'Trump OR Clinton since:2008-04-04 until:2008-12-09', 'Trump OR Clinton since:2008-12-09 until:2009-08-15', 'Trump OR Clinton since:2009-08-15 until:2010-04-20', 'Trump OR Clinton since:2010-04-20 until:2010-12-25', 'Trump OR Clinton since:2010-12-25 until:2011-08-31', 'Trump OR Clinton since:2011-08-31 until:2012-05-05', 'Trump OR Clinton since:2012-05-05 until:2013-01-09', 'Trump OR Clinton since:2013-01-09 until:2013-09-15', 'Trump OR Clinton since:2013-09-15 until:2014-05-21', 'Trump OR Clinton since:2014-05-21 until:2015-01-25', 'Trump OR Clinton since:2015-01-25 until:2015-10-01', 'Trump OR Clinton since:2015-10-01 until:2016-06-05', 'Trump OR Clinton since:2016-06-05 until:2017-02-09', 'Trump OR Clinton since:2017-02-09 until:2017-10-16', 'Trump OR Clinton since:2017-10-16 until:2018-06-21', 'Trump OR Clinton since:2018-06-21 until:2019-02-25', 'Trump OR Clinton since:2019-02-25 until:2019-11-01']\n",
      "INFO: Querying Trump OR Clinton since:2006-11-24 until:2007-07-31\n",
      "INFO: Querying Trump OR Clinton since:2007-07-31 until:2008-04-04\n",
      "INFO: Querying Trump OR Clinton since:2009-08-15 until:2010-04-20\n",
      "INFO: Querying Trump OR Clinton since:2008-12-09 until:2009-08-15\n",
      "INFO: Querying Trump OR Clinton since:2008-04-04 until:2008-12-09\n",
      "INFO: Querying Trump OR Clinton since:2006-03-21 until:2006-11-24\n",
      "INFO: Querying Trump OR Clinton since:2010-12-25 until:2011-08-31\n",
      "INFO: Querying Trump OR Clinton since:2010-04-20 until:2010-12-25\n",
      "INFO: Querying Trump OR Clinton since:2012-05-05 until:2013-01-09\n",
      "INFO: Scraping tweets from https://twitter.com/search?f=tweets&vertical=default&q=Trump%20OR%20Clinton%20since%3A2006-11-24%20until%3A2007-07-31&l=\n",
      "INFO: Scraping tweets from https://twitter.com/search?f=tweets&vertical=default&q=Trump%20OR%20Clinton%20since%3A2009-08-15%20until%3A2010-04-20&l=\n",
      "INFO: Using proxy 182.253.115.66:59813\n",
      "INFO: Scraping tweets from https://twitter.com/search?f=tweets&vertical=default&q=Trump%20OR%20Clinton%20since%3A2008-04-04%20until%3A2008-12-09&l=\n",
      "INFO: Scraping tweets from https://twitter.com/search?f=tweets&vertical=default&q=Trump%20OR%20Clinton%20since%3A2007-07-31%20until%3A2008-04-04&l=\n",
      "INFO: Scraping tweets from https://twitter.com/search?f=tweets&vertical=default&q=Trump%20OR%20Clinton%20since%3A2006-03-21%20until%3A2006-11-24&l=\n",
      "INFO: Scraping tweets from https://twitter.com/search?f=tweets&vertical=default&q=Trump%20OR%20Clinton%20since%3A2008-12-09%20until%3A2009-08-15&l=\n",
      "INFO: Using proxy 182.253.115.66:59813\n",
      "INFO: Using proxy 182.253.115.66:59813\n",
      "INFO: Using proxy 182.253.115.66:59813\n",
      "INFO: Using proxy 182.253.115.66:59813\n",
      "INFO: Using proxy 182.253.115.66:59813\n",
      "INFO: Scraping tweets from https://twitter.com/search?f=tweets&vertical=default&q=Trump%20OR%20Clinton%20since%3A2010-04-20%20until%3A2010-12-25&l=\n",
      "INFO: Querying Trump OR Clinton since:2013-01-09 until:2013-09-15\n",
      "INFO: Querying Trump OR Clinton since:2014-05-21 until:2015-01-25\n",
      "INFO: Querying Trump OR Clinton since:2013-09-15 until:2014-05-21\n",
      "INFO: Scraping tweets from https://twitter.com/search?f=tweets&vertical=default&q=Trump%20OR%20Clinton%20since%3A2013-01-09%20until%3A2013-09-15&l=\n",
      "INFO: Querying Trump OR Clinton since:2015-01-25 until:2015-10-01\n",
      "INFO: Querying Trump OR Clinton since:2015-10-01 until:2016-06-05\n",
      "INFO: Using proxy 182.253.115.66:59813\n",
      "INFO: Scraping tweets from https://twitter.com/search?f=tweets&vertical=default&q=Trump%20OR%20Clinton%20since%3A2014-05-21%20until%3A2015-01-25&l=\n",
      "INFO: Querying Trump OR Clinton since:2016-06-05 until:2017-02-09\n",
      "INFO: Scraping tweets from https://twitter.com/search?f=tweets&vertical=default&q=Trump%20OR%20Clinton%20since%3A2013-09-15%20until%3A2014-05-21&l=\n",
      "INFO: Using proxy 182.253.115.66:59813\n",
      "INFO: Querying Trump OR Clinton since:2017-02-09 until:2017-10-16\n",
      "INFO: Scraping tweets from https://twitter.com/search?f=tweets&vertical=default&q=Trump%20OR%20Clinton%20since%3A2015-01-25%20until%3A2015-10-01&l=\n",
      "INFO: Querying Trump OR Clinton since:2017-10-16 until:2018-06-21\n",
      "INFO: Scraping tweets from https://twitter.com/search?f=tweets&vertical=default&q=Trump%20OR%20Clinton%20since%3A2015-10-01%20until%3A2016-06-05&l=\n",
      "INFO: Using proxy 182.253.115.66:59813\n",
      "INFO: Scraping tweets from https://twitter.com/search?f=tweets&vertical=default&q=Trump%20OR%20Clinton%20since%3A2016-06-05%20until%3A2017-02-09&l=\n",
      "INFO: Using proxy 182.253.115.66:59813\n",
      "INFO: Using proxy 182.253.115.66:59813\n",
      "INFO: Scraping tweets from https://twitter.com/search?f=tweets&vertical=default&q=Trump%20OR%20Clinton%20since%3A2017-02-09%20until%3A2017-10-16&l=\n",
      "INFO: Scraping tweets from https://twitter.com/search?f=tweets&vertical=default&q=Trump%20OR%20Clinton%20since%3A2017-10-16%20until%3A2018-06-21&l=\n",
      "INFO: Using proxy 182.253.115.66:59813\n",
      "INFO: Using proxy 182.253.115.66:59813\n",
      "INFO: Using proxy 182.253.115.66:59813\n",
      "INFO: Using proxy 182.253.115.66:59813\n",
      "INFO: Querying Trump OR Clinton since:2011-08-31 until:2012-05-05\n",
      "INFO: Scraping tweets from https://twitter.com/search?f=tweets&vertical=default&q=Trump%20OR%20Clinton%20since%3A2011-08-31%20until%3A2012-05-05&l=\n",
      "INFO: Querying Trump OR Clinton since:2018-06-21 until:2019-02-25\n",
      "INFO: Querying Trump OR Clinton since:2019-02-25 until:2019-11-01\n",
      "INFO: Using proxy 182.253.115.66:59813\n",
      "INFO: Scraping tweets from https://twitter.com/search?f=tweets&vertical=default&q=Trump%20OR%20Clinton%20since%3A2012-05-05%20until%3A2013-01-09&l=\n",
      "INFO: Scraping tweets from https://twitter.com/search?f=tweets&vertical=default&q=Trump%20OR%20Clinton%20since%3A2019-02-25%20until%3A2019-11-01&l=\n",
      "INFO: Scraping tweets from https://twitter.com/search?f=tweets&vertical=default&q=Trump%20OR%20Clinton%20since%3A2018-06-21%20until%3A2019-02-25&l=\n",
      "INFO: Using proxy 182.253.115.66:59813\n",
      "INFO: Scraping tweets from https://twitter.com/search?f=tweets&vertical=default&q=Trump%20OR%20Clinton%20since%3A2010-12-25%20until%3A2011-08-31&l=\n",
      "INFO: Using proxy 182.253.115.66:59813\n",
      "INFO: Using proxy 182.253.115.66:59813\n",
      "INFO: Using proxy 182.253.115.66:59813\n",
      "INFO: Got 4 tweets for Trump%20OR%20Clinton%20since%3A2006-03-21%20until%3A2006-11-24.\n",
      "INFO: Got 4 tweets (4 new).\n",
      "INFO: Got 18 tweets for Trump%20OR%20Clinton%20since%3A2006-11-24%20until%3A2007-07-31.\n",
      "INFO: Got 22 tweets (18 new).\n",
      "INFO: Got 20 tweets for Trump%20OR%20Clinton%20since%3A2008-04-04%20until%3A2008-12-09.\n",
      "INFO: Got 42 tweets (20 new).\n",
      "INFO: Got 20 tweets for Trump%20OR%20Clinton%20since%3A2009-08-15%20until%3A2010-04-20.\n",
      "INFO: Got 62 tweets (20 new).\n",
      "INFO: Got 20 tweets for Trump%20OR%20Clinton%20since%3A2007-07-31%20until%3A2008-04-04.\n",
      "INFO: Got 82 tweets (20 new).\n",
      "INFO: Got 20 tweets for Trump%20OR%20Clinton%20since%3A2008-12-09%20until%3A2009-08-15.\n",
      "INFO: Got 20 tweets for Trump%20OR%20Clinton%20since%3A2010-04-20%20until%3A2010-12-25.\n",
      "INFO: Got 102 tweets (20 new).\n",
      "INFO: Got 122 tweets (20 new).\n",
      "INFO: Got 20 tweets for Trump%20OR%20Clinton%20since%3A2013-01-09%20until%3A2013-09-15.\n",
      "INFO: Got 142 tweets (20 new).\n",
      "INFO: Got 20 tweets for Trump%20OR%20Clinton%20since%3A2010-12-25%20until%3A2011-08-31.\n",
      "INFO: Got 162 tweets (20 new).\n",
      "INFO: Got 20 tweets for Trump%20OR%20Clinton%20since%3A2013-09-15%20until%3A2014-05-21.\n",
      "INFO: Got 182 tweets (20 new).\n",
      "INFO: Got 20 tweets for Trump%20OR%20Clinton%20since%3A2014-05-21%20until%3A2015-01-25.\n",
      "INFO: Got 20 tweets for Trump%20OR%20Clinton%20since%3A2017-10-16%20until%3A2018-06-21.\n",
      "INFO: Got 202 tweets (20 new).\n",
      "INFO: Got 222 tweets (20 new).\n",
      "INFO: Got 20 tweets for Trump%20OR%20Clinton%20since%3A2012-05-05%20until%3A2013-01-09.\n",
      "INFO: Got 20 tweets for Trump%20OR%20Clinton%20since%3A2011-08-31%20until%3A2012-05-05.\n",
      "INFO: Got 242 tweets (20 new).\n",
      "INFO: Got 262 tweets (20 new).\n",
      "INFO: Got 20 tweets for Trump%20OR%20Clinton%20since%3A2016-06-05%20until%3A2017-02-09.\n",
      "INFO: Got 282 tweets (20 new).\n",
      "INFO: Got 20 tweets for Trump%20OR%20Clinton%20since%3A2017-02-09%20until%3A2017-10-16.\n",
      "INFO: Got 302 tweets (20 new).\n",
      "INFO: Got 20 tweets for Trump%20OR%20Clinton%20since%3A2015-01-25%20until%3A2015-10-01.\n",
      "INFO: Got 20 tweets for Trump%20OR%20Clinton%20since%3A2015-10-01%20until%3A2016-06-05.\n"
     ]
    },
    {
     "name": "stderr",
     "output_type": "stream",
     "text": [
      "INFO: Got 322 tweets (20 new).\n",
      "INFO: Got 342 tweets (20 new).\n",
      "INFO: Got 20 tweets for Trump%20OR%20Clinton%20since%3A2019-02-25%20until%3A2019-11-01.\n",
      "INFO: Got 362 tweets (20 new).\n",
      "INFO: Got 20 tweets for Trump%20OR%20Clinton%20since%3A2018-06-21%20until%3A2019-02-25.\n",
      "INFO: Got 382 tweets (20 new).\n"
     ]
    },
    {
     "ename": "AttributeError",
     "evalue": "'Tweet' object has no attribute 'user'",
     "output_type": "error",
     "traceback": [
      "\u001b[0;31m---------------------------------------------------------------------------\u001b[0m",
      "\u001b[0;31mAttributeError\u001b[0m                            Traceback (most recent call last)",
      "\u001b[0;32m<ipython-input-16-015d56195693>\u001b[0m in \u001b[0;36m<module>\u001b[0;34m\u001b[0m\n\u001b[1;32m      1\u001b[0m \u001b[0;32mfor\u001b[0m \u001b[0mtweet\u001b[0m \u001b[0;32min\u001b[0m \u001b[0mquery_tweets\u001b[0m\u001b[0;34m(\u001b[0m\u001b[0;34m\"Trump OR Clinton\"\u001b[0m\u001b[0;34m,\u001b[0m \u001b[0;36m10\u001b[0m\u001b[0;34m)\u001b[0m\u001b[0;34m[\u001b[0m\u001b[0;34m:\u001b[0m\u001b[0;36m10\u001b[0m\u001b[0;34m]\u001b[0m\u001b[0;34m:\u001b[0m\u001b[0;34m\u001b[0m\u001b[0m\n\u001b[0;32m----> 2\u001b[0;31m     \u001b[0mprint\u001b[0m\u001b[0;34m(\u001b[0m\u001b[0mtweet\u001b[0m\u001b[0;34m.\u001b[0m\u001b[0muser\u001b[0m\u001b[0;34m.\u001b[0m\u001b[0mencode\u001b[0m\u001b[0;34m(\u001b[0m\u001b[0;34m'utf-8'\u001b[0m\u001b[0;34m)\u001b[0m\u001b[0;34m)\u001b[0m\u001b[0;34m\u001b[0m\u001b[0m\n\u001b[0m",
      "\u001b[0;31mAttributeError\u001b[0m: 'Tweet' object has no attribute 'user'"
     ]
    }
   ],
   "source": [
    "for tweet in query_tweets(\"Trump OR Clinton\", 10)[:10]:\n",
    "    print(tweet.user.encode('utf-8'))"
   ]
  },
  {
   "cell_type": "code",
   "execution_count": null,
   "metadata": {},
   "outputs": [],
   "source": []
  }
 ],
 "metadata": {
  "kernelspec": {
   "display_name": "Python 3",
   "language": "python",
   "name": "python3"
  },
  "language_info": {
   "codemirror_mode": {
    "name": "ipython",
    "version": 3
   },
   "file_extension": ".py",
   "mimetype": "text/x-python",
   "name": "python",
   "nbconvert_exporter": "python",
   "pygments_lexer": "ipython3",
   "version": "3.6.6"
  }
 },
 "nbformat": 4,
 "nbformat_minor": 2
}
